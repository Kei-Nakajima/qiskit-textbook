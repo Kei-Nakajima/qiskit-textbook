{
 "cells": [
  {
   "cell_type": "markdown",
   "metadata": {
    "tags": [
     "remove_cell"
    ]
   },
   "source": [
    "# PyTorchとQiskitを用いた量子古典ハイブリッド・ニューラル・ネットワーク"
   ]
  },
  {
   "cell_type": "markdown",
   "metadata": {},
   "source": [
    "機械学習 (Machine learning、ML) は、データから一般化された情報を数学的に抽出しようとする学際的分野を自分自身で確立しました。量子コンピューターを利用することで、機械学習を補完するため量子力学の原理を利用したり、あるいはその逆を行う興味深い研究分野が増加しています。 難しい計算を量子コンピューターに任せることで古典MLアルゴリズムを拡張するにせよ、古典MLアルゴリズムを用いて量子アルゴリズムを最適化するにせよ、どちらも量子機械学習(quantum machine learning、QML)の多種多様な傘下にあるのです。\n",
    "\n",
    "本章では、古典的なニューラル・ネットワークを部分的に量子化して、量子古典ハイブリッド・ニューラル・ネットワークを作る方法を探求します。Qiskitと最新のオープン・ソース・ソフトウェア・パッケージ - [PyTorch](https://pytorch.org/) - を統合する簡単な例をコーディングします。これは、既存のMLツールとQiskitの統合が簡単であることを示すことと、ML学習者に量子コンピューティングで何が可能になるか探究してもらうことを目的としています。"
   ]
  },
  {
   "cell_type": "markdown",
   "metadata": {},
   "source": [
    "## どのように機能するのか?\n",
    "<img src=\"hybridnetwork.png\" width=\"800\"/>\n",
    "\n",
    "**図.1** は、本章で構築するフレームワークを描いたものです。最終的には、手書きの数字を分類しようとする、量子古典ハイブリッド・ニューラル・ネットワークを構築します。 この図に示されているエッジはすべて下方を向いていますが、方向性は視覚的に示されていないことに注意してください。"
   ]
  },
  {
   "cell_type": "markdown",
   "metadata": {},
   "source": [
    "### 導入\n",
    "ここで語られる古典ニューラル・ネットワークの背景には、関連する知識や共通の用語の確立も含まれますが、俄然とてもハイレベルなものです。__もし古典ニューラル・ネットワークに深く踏み込みたい場合は、YouTuberによるよくできたビデオシリーズ__  [3Blue1Brown](https://youtu.be/aircAruvnKk) __をご覧ください__。または、もし既に古典ネットワークに詳しい場合は [次のセクションにスキップ](#quantumlayer) できます。\n",
    "\n",
    "###### ニューロンと重み\n",
    "ニューラル・ネットワークは、最終的には、ニューロンと呼ばれる小さなビルディング・ブロックを構成することで作られる精巧な機能です。***ニューロン*** は、通常シンプルで計算しやすい非線形の関数で、1つ以上の入力を1つの実数にマップします。ニューロンの一つの出力は、通常他のニューロンへの入力としてコピーされフィードされます。図示する場合、ニューロンをグラフ内のノードとして表し、あるニューロンの出力が他のニューロンへの入力としてどのように使用されるかを示すため、ノード間の有向エッジを描画します。また、グラフ内の各エッジは、しばしば[***重み***](https://en.wikipedia.org/wiki/Artificial_neural_network#Connections_and_weights)と呼ばれるスカラー値に関連付けられることに注意する必要があります。ここでの考え方は、ニューロンへの各入力はそれぞれ異なるスカラー値が乗じられた後、集められて1つの値に処理されるということです。ニューラル・ネットワークの学習の主たる目的は、特定の方法でネットワーク振る舞うよう重みを決めることです。\n",
    "\n",
    "###### フィードフォワード・ニューラル・ネットワーク\n",
    "また、私たちが関心のあるタイプのニューラル・ネットワークは、**[フィードフォワード・ニューラル・ネットワーク (Feed-Forward Neural Network, FFNN)](https://en.wikipedia.org/wiki/Feedforward_neural_network)** と呼ばれることにも注目する必要があります。これは、ニューラル・ネットワークにデータが流れるとき、データは一度訪れているニューロンに戻ることがないことを意味します。言い換えるならば、このニューラル・ネットワークを記述するグラフは、**[有向非巡回グラフ (Directed Acyclic Graph, DAG)](https://en.wikipedia.org/wiki/Directed_acyclic_graph)** だということです。さらに、ニューラル・ネットワークの同じ層にあるニューロンは、それらの間にエッジがないことも条件となります。\n",
    "\n",
    "###### 層のIO構造\n",
    "ニューラル・ネットワークへの入力は、古典的な(実数値の)ベクトルです。入力ベクトルの各成分は、ネットワークのグラフ構造に従って、異なる重みを乗じられ、ニューロンの層にフィードされます。 層内の各ニューロンが評価された後、結果は新しいベクトルに集められ、 i番目の成分はi番目のニューロンの出力を記録します。この新しいベクトルは、新しい層の入力として処理され、以下同様に処理されます。ネットワークの最初と最後以外の層は、***隠れ層*** という標準的用語を使って表現しましょう。\n"
   ]
  },
  {
   "cell_type": "markdown",
   "metadata": {},
   "source": [
    "## 量子はどのように画像を入力するのか？ <a id='quantumlayer'> </a>\n",
    "\n",
    "量子古典ニューラル・ネットワークを構築するには、パラメータ化された量子回路を使用してニューラル・ネットワークの隠れ層を実装する方法があります。 ここで「パラメータ化された量子回路」とは、各ゲートの回転角が古典入力ベクトルの成分によって指定される量子回路を意味します。ニューラル・ネットワークの前の層からの出力が集められ、パラメーター化された回路の入力として使用されます。これらの量子回路の測定統計は集められ、続くの層の入力として使用することができます。以下に簡単な例を示します：\n",
    "\n",
    "<img src=\"neuralnetworkQC.png\" width=\"800\"/>\n",
    "\n",
    "ここで、$\\sigma$ は [非線形関数](https://en.wikipedia.org/wiki/Activation_function)、$h_i$ は各隠れ層におけるニューロン $i$ の値です。$R(h_i)$ は $h_i$ に等しい角の回転ゲートを表し、$y$はこのハイブリッド・ネットワークから生成される最終予測値になります。\n",
    "\n",
    "### 誤差逆伝播法はどうか？\n",
    "古典MLに詳しいならば、 *量子回路が含まれる場合、どのように勾配を計算するのか* という疑問がすぐ浮かぶでしょう。これには、**[最急降下法](https://en.wikipedia.org/wiki/Gradient_descent)** といった、強力な最適化手法を列挙する必要があるでしょう。少し技術的になりますが、手短に言えば、量子回路をブラック・ボックスとみなすとき、パラメーターに対するこのブラック・ボックスの勾配は次のように計算できます： \n",
    "\n",
    "<img src=\"quantumgradient.png\" width=\"800\"/>\n",
    "\n",
    "ここで、$\\theta$ は量子回路のパラメーターを、$s$ は巨視的シフトを表します。すると、勾配は回路を $\\theta+s$ と $\\theta - s$ で評価した時の差になります。このように、より大きな誤差伝播ルーチンの一部として、量子回路を体系的に区別することができます。量子回路パラメータの勾配を計算するこの閉形式ルールは、**[パラメーター・シフト・ルール](https://arxiv.org/pdf/1905.13311.pdf)** として知られています。"
   ]
  },
  {
   "cell_type": "markdown",
   "metadata": {},
   "source": [
    "# いざ、コーディング ！\n"
   ]
  },
  {
   "cell_type": "markdown",
   "metadata": {},
   "source": [
    "### インポート\n",
    "最初に、QiskitやPyTorchを含め、必要で便利なパッケージをインポートします。"
   ]
  },
  {
   "cell_type": "code",
   "execution_count": 1,
   "metadata": {},
   "outputs": [],
   "source": [
    "import numpy as np\n",
    "import torch\n",
    "from torch.autograd import Function\n",
    "import torch.optim as optim\n",
    "import torch.nn as nn\n",
    "import torch.nn.functional as F\n",
    "import torchvision\n",
    "from torchvision import datasets, transforms\n",
    "from qiskit import QuantumRegister, QuantumCircuit, ClassicalRegister, execute\n",
    "from qiskit.circuit import Parameter\n",
    "from qiskit import Aer\n",
    "from matplotlib import pyplot as plt\n",
    "%matplotlib inline"
   ]
  },
  {
   "cell_type": "markdown",
   "metadata": {},
   "source": [
    "### テンソルをリストに\n",
    "次に、Pythonでテンソルをリストに変換する追加の関数を作成します。これは、QiskitとPyTorchのオブジェクトを結びつけるために必要です。特に、Pytorchによって生成されたテンソルをリストに変換し、Qiskitの量子回路にフィードさせるために使用します。 "
   ]
  },
  {
   "cell_type": "code",
   "execution_count": 2,
   "metadata": {},
   "outputs": [],
   "source": [
    "def to_numbers(tensor_list):\n",
    "    num_list = []\n",
    "    for tensor in tensor_list:\n",
    "        num_list += [tensor.item()]\n",
    "    return num_list"
   ]
  },
  {
   "cell_type": "markdown",
   "metadata": {},
   "source": [
    "### Qiskitを用いた「量子クラス」の作成\n",
    "Qiskitの量子関数をクラスに簡単に導入することができます。初めに、学習する量子パラメータの数と、量子回路で使用したいショットの数を指定します。 この例では、簡単にするため、1つの学習量子パラメーター $\\theta$を持つ1量子ビットの回路を使用します。単純化するため回路をハードコードし、角度 $\\theta$ の $RY-$ 回転を使用して、回路の出力を学習させます。回路は次のようになります：\n",
    "\n",
    "<img src=\"1qubitcirc.png\" width=\"400\"/>\n",
    "\n",
    "$z-$基底で出力を測定するため、$\\sigma_z$ 期待値を得るPython関数を作成します。最後に、パラメーターをリストに変換し、Aerシミュレーター上で回路を実行する「bind」関数を作成します。これがハイブリッド・ニューラル・ネットワークにどのように結びつくか、後ほど詳しく見ます。"
   ]
  },
  {
   "cell_type": "code",
   "execution_count": 3,
   "metadata": {},
   "outputs": [],
   "source": [
    "class QiskitCircuit():\n",
    "    \n",
    "    # Specify initial parameters and the quantum circuit\n",
    "    \n",
    "    def __init__(self,shots):\n",
    "        self.theta = Parameter('Theta')\n",
    "        self.shots = shots\n",
    "        \n",
    "        def create_circuit():\n",
    "            qr = QuantumRegister(1,'q')\n",
    "            cr = ClassicalRegister(1,'c')\n",
    "            ckt = QuantumCircuit(qr,cr)\n",
    "            ckt.h(qr[0])\n",
    "            ckt.barrier()\n",
    "            ckt.ry(self.theta,qr[0])\n",
    "            ckt.barrier()\n",
    "            ckt.measure(qr,cr)\n",
    "            return ckt\n",
    "        \n",
    "        self.circuit = create_circuit()\n",
    "        \n",
    "    def N_qubit_expectation_Z(self, counts, shots, nr_qubits):\n",
    "        expects = np.zeros(nr_qubits)\n",
    "        for key in counts.keys():\n",
    "            perc = counts[key]/shots\n",
    "            check = np.array([(float(key[i])-1/2)*2*perc for i in range(nr_qubits)])\n",
    "            expects += check   \n",
    "        return expects    \n",
    "    \n",
    "    def bind(self, parameters):\n",
    "        [self.theta] = to_numbers(parameters)\n",
    "        self.circuit.data[2][0]._params = to_numbers(parameters)\n",
    "    \n",
    "    def run(self, i):\n",
    "        self.bind(i)\n",
    "        backend = Aer.get_backend('qasm_simulator')\n",
    "        job_sim = execute(self.circuit,backend,shots=self.shots)\n",
    "        result_sim = job_sim.result()\n",
    "        counts = result_sim.get_counts(self.circuit)\n",
    "        return self.N_qubit_expectation_Z(counts,self.shots,1)"
   ]
  },
  {
   "cell_type": "markdown",
   "metadata": {},
   "source": [
    "### PyTorchを用いた「量子古典クラス」の作成\n",
    "量子回路を定義できましたので、 PyTorchを使って誤差逆伝播法に必要な関数を作成できます。[順伝播と逆伝播](http://www.ai.mit.edu/courses/6.034b/backprops.pdf) には、Qiskitクラスの要素が含まれています。 逆伝播は、上記で導入した有限差分公式を使用して、分析勾配を直接計算します。"
   ]
  },
  {
   "cell_type": "code",
   "execution_count": 4,
   "metadata": {},
   "outputs": [],
   "source": [
    "class TorchCircuit(Function):    \n",
    "\n",
    "    @staticmethod\n",
    "    def forward(ctx, i):\n",
    "        if not hasattr(ctx, 'QiskitCirc'):\n",
    "            ctx.QiskitCirc = QiskitCircuit(shots=100)\n",
    "            \n",
    "        exp_value = ctx.QiskitCirc.run(i[0])\n",
    "        \n",
    "        result = torch.tensor([exp_value]) # store the result as a torch tensor\n",
    "        \n",
    "        ctx.save_for_backward(result, i)\n",
    "        \n",
    "        return result\n",
    "    \n",
    "    @staticmethod\n",
    "    def backward(ctx, grad_output):\n",
    "        s = np.pi/2\n",
    "        \n",
    "        forward_tensor, i = ctx.saved_tensors  \n",
    "        \n",
    "        # Obtain paramaters \n",
    "        input_numbers = to_numbers(i[0])\n",
    "        \n",
    "        gradient = []\n",
    "        \n",
    "        for k in range(len(input_numbers)):\n",
    "            input_plus_s = input_numbers\n",
    "            input_plus_s[k] = input_numbers[k] + s  # Shift up by s\n",
    "            \n",
    "            exp_value_plus = ctx.QiskitCirc.run(torch.tensor(input_plus_s))[0]\n",
    "            result_plus_s = torch.tensor([exp_value_plus])\n",
    "            \n",
    "            input_minus_s = input_numbers\n",
    "            input_minus_s[k] = input_numbers[k] - s # Shift down by s\n",
    "            \n",
    "            exp_value_minus = ctx.QiskitCirc.run(torch.tensor(input_minus_s))[0]\n",
    "            result_minus_s = torch.tensor([exp_value_minus])\n",
    "\n",
    "            gradient_result = (result_plus_s - result_minus_s)\n",
    "\n",
    "            gradient.append(gradient_result)\n",
    "            \n",
    "        result = torch.tensor([gradient])\n",
    "        \n",
    "        return result.float() * grad_output.float()"
   ]
  },
  {
   "cell_type": "markdown",
   "metadata": {},
   "source": [
    "これらをすべてをまとめて、[MNIST データ・セット](http://yann.lecun.com/exdb/mnist/) の2種類の数字（0または1）のイメージを分類するための、簡単なハイブリッド・ニューラル・ネットワークを作成します。まずMNISTをロードし、0と1を含む画像をフィルタリングします。これらは、分類するニューラル・ネットワークの入力として扱われます。\n",
    "\n",
    "### データのロードと前処理"
   ]
  },
  {
   "cell_type": "code",
   "execution_count": 5,
   "metadata": {},
   "outputs": [],
   "source": [
    "transform = torchvision.transforms.Compose([torchvision.transforms.ToTensor()]) # transform images to tensors/vectors\n",
    "mnist_trainset = datasets.MNIST(root='./data', train=True, download=True, transform=transform)\n",
    "\n",
    "labels = mnist_trainset.targets # get the labels for the data\n",
    "labels = labels.numpy()\n",
    "\n",
    "idx1 = np.where(labels == 0) # filter on zeros\n",
    "idx2 = np.where(labels == 1) # filter on ones\n",
    "\n",
    "# Specify number of datapoints per class (i.e. there will be n pictures of 1 and n pictures of 0 in the training set)\n",
    "n=100\n",
    "\n",
    "# concatenate the data indices\n",
    "idx = np.concatenate((idx1[0][0:n],idx2[0][0:n])) \n",
    "\n",
    "# create the filtered dataset for our training set\n",
    "mnist_trainset.targets = labels[idx] \n",
    "mnist_trainset.data = mnist_trainset.data[idx]\n",
    "\n",
    "train_loader = torch.utils.data.DataLoader(mnist_trainset, batch_size=1, shuffle=True)"
   ]
  },
  {
   "cell_type": "markdown",
   "metadata": {},
   "source": [
    "データは、0と1の2つのクラスに属するイメージで構成されます。イメージの例は以下の通りです：\n",
    "\n",
    "<img src=\"MNISTplot.png\" width=\"100\"/>\n",
    "\n",
    "ここまでで、データをロードし、1つの学習パラメータを含む量子回路を作成するクラスをコーディングしました。この量子パラメータは、他の古典パラメータとともに古典ニューラル・ネットワークに入力され、ハイブリッド・ニューラル・ネットワークを形成します。また、逆伝播・順伝播関数を作ることにより、誤差逆伝播法を実現しニューラル・ネットワークを最適化することができました。最後に、PyTorchが提供する最適化技術を使って、パラメーターの学習を開始できるよう、ニューラル・ネットワーク・アーキテクチャーを指定する必要があります。\n",
    "\n",
    "\n",
    "### ハイブリッド・ニューラル・ネットワークの作成\n",
    "NEAT PyTorchパイプラインを使って、ニューラルネットワーク・アーキテクチャを構築できます。量子層（すなわち量子回路）を挿入する場合、ネットワークは次元に対して互換性が必要です。この例の量子回路はパラメータを1つ含んでいるので、ネットワークがニューロンをサイズ1まで縮小するようにしなければなりません。それぞれ320、50、1個のニューロンで構成される、3つの隠れ層からなるネットワークを作成します。最後のニューロンの値は、量子回路のパラメータ $\\theta$ の値としてフィードされます。回路測定は、$\\sigma_z$の測定によってもたらされる0または1の最終予測値として与えられます。 測定結果の-1は予測ラベル0を、1は予測ラベル1を意味します。  "
   ]
  },
  {
   "cell_type": "code",
   "execution_count": 6,
   "metadata": {},
   "outputs": [],
   "source": [
    "qc = TorchCircuit.apply \n",
    "\n",
    "class Net(nn.Module):\n",
    "    def __init__(self):\n",
    "        super(Net, self).__init__()\n",
    "        self.conv1 = nn.Conv2d(1, 10, kernel_size=5)\n",
    "        self.conv2 = nn.Conv2d(10, 20, kernel_size=5)\n",
    "        self.conv2_drop = nn.Dropout2d()\n",
    "        self.h1 = nn.Linear(320, 50)\n",
    "        self.h2 = nn.Linear(50, 1)\n",
    "\n",
    "    def forward(self, x):\n",
    "        x = F.relu(F.max_pool2d(self.conv1(x), 2))\n",
    "        x = F.relu(F.max_pool2d(self.conv2_drop(self.conv2(x)), 2))\n",
    "        x = x.view(-1, 320)\n",
    "        x = F.relu(self.h1(x))\n",
    "        x = F.dropout(x, training=self.training)\n",
    "        x = self.h2(x)\n",
    "        x = qc(x)\n",
    "        x = (x+1)/2  # Normalise the inputs to 1 or 0\n",
    "        x = torch.cat((x, 1-x), -1)\n",
    "        return x"
   ]
  },
  {
   "cell_type": "markdown",
   "metadata": {},
   "source": [
    "### ネットワークの学習\n",
    "ハイブリッド・ネットワークを学習させる全ての材料が揃いました！複数のエポックに渡り学習させるため、[PyTorchの最適化法](https://pytorch.org/docs/stable/optim.html)や[学習率](https://en.wikipedia.org/wiki/Learning_rate) 、 [損失関数/目的関数](https://en.wikipedia.org/wiki/Loss_function) などを指定することができます。この例では、[Adam最適化ツール](https://arxiv.org/abs/1412.6980) 、学習率0.001、[負の対数尤度損失関数](https://pytorch.org/docs/stable/_modules/torch/nn/modules/loss.html) を使用します。"
   ]
  },
  {
   "cell_type": "code",
   "execution_count": 7,
   "metadata": {},
   "outputs": [
    {
     "name": "stdout",
     "output_type": "stream",
     "text": [
      "-0.7051000000000001\n",
      "-0.7544500000000005\n",
      "-0.7802999999999998\n",
      "-0.7875500000000001\n",
      "-0.7919500000000004\n",
      "-0.8017999999999997\n",
      "-0.7955999999999999\n",
      "-0.7966999999999997\n",
      "-0.8008499999999998\n",
      "-0.7841499999999999\n",
      "-0.8081\n",
      "-0.8004499999999998\n",
      "-0.8101000000000002\n",
      "-0.8156999999999998\n",
      "-0.8086999999999996\n",
      "-0.8106999999999998\n",
      "-0.8131\n",
      "-0.8151000000000005\n",
      "-0.8181000000000003\n",
      "-0.8094499999999998\n",
      "-0.8226999999999998\n",
      "-0.8267499999999995\n",
      "-0.8131999999999999\n",
      "-0.8266000000000001\n",
      "-0.8291499999999999\n",
      "-0.8369\n",
      "-0.82395\n",
      "-0.8246499999999999\n",
      "-0.8137499999999999\n",
      "-0.8385500000000001\n"
     ]
    }
   ],
   "source": [
    "network = Net()\n",
    "optimizer = optim.Adam(network.parameters(), lr=0.001)\n",
    "\n",
    "epochs = 30\n",
    "loss_list = []\n",
    "for epoch in range(epochs):\n",
    "    total_loss = []\n",
    "    target_list = []\n",
    "    for batch_idx, (data, target) in enumerate(train_loader):\n",
    "        target_list.append(target.item())\n",
    "        optimizer.zero_grad()\n",
    "        output = network(data)\n",
    "        loss = F.nll_loss(output, target)\n",
    "        loss.backward()\n",
    "        optimizer.step()\n",
    "        total_loss.append(loss.item())\n",
    "    loss_list.append(sum(total_loss)/len(total_loss))\n",
    "    print(loss_list[-1])\n",
    "\n",
    "# Normalise the loss between 0 and 1\n",
    "for i in range(len(loss_list)):\n",
    "    loss_list[i] += 1"
   ]
  },
  {
   "cell_type": "code",
   "execution_count": 8,
   "metadata": {},
   "outputs": [
    {
     "data": {
      "text/plain": [
       "Text(0, 0.5, 'Loss')"
      ]
     },
     "execution_count": 8,
     "metadata": {},
     "output_type": "execute_result"
    },
    {
     "data": {
      "image/png": "[encoded data removed]",
      "text/plain": [
       "<Figure size 432x288 with 1 Axes>"
      ]
     },
     "metadata": {
      "needs_background": "light"
     },
     "output_type": "display_data"
    }
   ],
   "source": [
    "# Plot the loss per epoch\n",
    "plt.plot(loss_list)\n",
    "plt.title(\"Hybrid NN Training Convergence\")\n",
    "plt.xlabel('Training Iterations')\n",
    "plt.ylabel('Loss')"
   ]
  },
  {
   "cell_type": "markdown",
   "metadata": {},
   "source": [
    "# 次は何？\n",
    "\n",
    "ハイブリッド・ニューラルネットワークを作成することは確かに可能ですが、実際に何らかの恩恵があったでしょうか？事実、このネットワークの古典的な層は、量子層がなくとも完全に良く（実際には、より良く）学習されます。さらに、ここで学習された量子層は、**エンタングルメントを全く生成しない**ことに気が付いたかもしれません。つまり、この特定のアーキテクチャーを拡張する際は、古典的にシミュレーション可能であるということです。これは、ハイブリッド・ニューラル・ネットワークを使用して量子優位性を実現したい場合は、このコードを拡張し、より洗練された量子層を組み込むことから始める必要があることを意味します。 \n",
    "\n",
    "\n",
    "この演習のポイントは、興味のある要素が実際にあるかを調べるため、MLと量子コンピューティングの技術の統合を考えることでした。PyTorchとQiskitのおかげで、これは少し楽になっています。 "
   ]
  }
 ],
 "metadata": {
  "kernelspec": {
   "display_name": "Python 3",
   "language": "python",
   "name": "python3"
  },
  "language_info": {
   "codemirror_mode": {
    "name": "ipython",
    "version": 3
   },
   "file_extension": ".py",
   "mimetype": "text/x-python",
   "name": "python",
   "nbconvert_exporter": "python",
   "pygments_lexer": "ipython3",
   "version": "3.7.4"
  }
 },
 "nbformat": 4,
 "nbformat_minor": 2
}

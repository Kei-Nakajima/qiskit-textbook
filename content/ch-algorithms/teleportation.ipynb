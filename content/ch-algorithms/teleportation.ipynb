{
 "cells": [
  {
   "cell_type": "markdown",
   "metadata": {
    "tags": [
     "remove_cell"
    ]
   },
   "source": [
    "# 量子テレポーテーション"
   ]
  },
  {
   "cell_type": "markdown",
   "metadata": {},
   "source": [
    "このノートでは量子テレポーテーションについて説明します。まず始めに、作成した量子回路を Qiskit に組み込まれているシミュレーターを使ってテストします。その後、その回路を実際の量子コンピューターで動かしてみます。\n",
    "\n",
    "## 目次\n",
    "\n",
    "1. [概要](#overview)    \n",
    "2. [量子テレポーテーション・プロトコル](#how)       \n",
    "3. [テレポーテーション・プロトコルのシミュレーション](#simulating)   \n",
    "    3.1 [実際の量子コンピュータにおける結果の検査方法](#testing)   \n",
    "    3.2 [状態ベクトル・シミュレーターを使った方法](#simulating-sv)     \n",
    "    3.3 [QASM・シミュレーターを使った方法](#simulating-qs)    \n",
    "4. [実際の量子コンピュータにおけるテレポーテーション]](#real_qc)    \n",
    "    4.1 [IBM ハードウェアと遅延測定](#deferred-measurement)    \n",
    "    4.2 [実行](#executing)    \n",
    "4. [参考文献](#references)"
   ]
  },
  {
   "cell_type": "markdown",
   "metadata": {},
   "source": [
    "## 1. 概要 <a id='overview'></a>"
   ]
  },
  {
   "cell_type": "markdown",
   "metadata": {},
   "source": [
    "アリスがボブに量子情報を送りたいとしましょう。これを具体的に、アリスがボブに状態\n",
    "$\\vert\\psi\\rangle = \\alpha\\vert0\\rangle + \\beta\\vert1\\rangle$\n",
    "を送りたい、と仮定します。その為にはまず、$\\alpha$ と $\\beta$ の情報をボブに渡す必要があります。\n",
    "\n",
    "量子力学には、未知の量子状態の単純な複製を正確に作ることは出来ない、という定理が存在します。量子複製不可能定理（no-cloning theorem）として知られているものです。この定理ゆえ、アリスが単純に $\\vert\\psi\\rangle$ の複製を生成してそれをボブに渡す、という事は出来ません。状態 （係数ではありません）の複製は古典的な計算でのみ可能なのです。\n",
    "\n",
    "しかし、2つの古典的ビットとエンタングルメントを利用することで、アリスは状態 $\\vert\\psi\\rangle$ をボブに転送できます。その結果、最終的にボブが $\\vert\\psi\\rangle$ を持ち、アリスがもはや何も持っていない事から、我々はこれをテレポーテーションと呼んでいます。これがどのような仕組みから成るのか、具体例と共に見てみましょう。"
   ]
  },
  {
   "cell_type": "markdown",
   "metadata": {},
   "source": [
    "## 2. 量子テレポーテーション・プロトコル <a id='how'></a>\n",
    "量子ビットを転送するためには、アリスとボブは第三者（ここではイブと呼びましょう）を使ってエンタングルした量子ビットのペアを作り、それを彼ら自身に送ってもらわなくてはなりません。その後アリスは、彼女の量子ビットにいくつかの演算子を作用させ、その結果を古典通信チャンネルを通してボブに送信します。ボブはそれに従って彼の量子ビットにいくつか演算子を作用させることで、結果的にアリスの量子ビットを受け取ることが出来ます。\n",
    "\n",
    "![teleportation_doodle](images/tele1.png)\n",
    "\n",
    "これらの手順を、以下では量子回路を使って説明していきます。ここでは実際に量子ビットを「送る」わけではありませんので、想像しながら進んでください！\n",
    "\n",
    "まず初めに、セッション（Jupyter Noteobook上の対話型スクリプトの事）をセットアップしていきます："
   ]
  },
  {
   "cell_type": "code",
   "execution_count": null,
   "metadata": {},
   "outputs": [],
   "source": [
    "# 必要なモジュールをインポートします\n",
    "import numpy as np\n",
    "from qiskit import QuantumCircuit, QuantumRegister, ClassicalRegister, execute, Aer, IBMQ\n",
    "from qiskit.visualization import plot_histogram, plot_bloch_multivector\n",
    "# Jupyter Notebooks 上できれいに画像を表示させるための設定をします。\n",
    "%config InlineBackend.figure_format = 'svg'"
   ]
  },
  {
   "cell_type": "markdown",
   "metadata": {},
   "source": [
    "それでは量子回路を作成していきます："
   ]
  },
  {
   "cell_type": "code",
   "execution_count": null,
   "metadata": {},
   "outputs": [],
   "source": [
    "qr = QuantumRegister(3)    # プロトコルでは、３つの量子ビットと、\n",
    "crz = ClassicalRegister(1) # ２つの異なるレジスタに登録した\n",
    "crx = ClassicalRegister(1) # ２つの古典ビットを使用します。\n",
    "teleportation_circuit = QuantumCircuit(qr, crz, crx)"
   ]
  },
  {
   "cell_type": "markdown",
   "metadata": {},
   "source": [
    "#### Step 1\n",
    "第三者のイブは、エンタングルした量子ビットのペアを作り、片方をボブへ、もう片方をアリスへ渡します。\n",
    "\n",
    "イブが作ったこのペアは Bell pair（ベルペア）と呼ばれる特別なものです。量子回路の言葉を使って Bell pair の作成方法を説明すると、まず量子ビットのペアのうち１つをアダマールゲートで X 基底 ($|+\\rangle$ and $|-\\rangle$) に変換し、これをコントロール・ビットとして、もう片方の量子ビットに CNOT ゲートを適用することで作成できます。"
   ]
  },
  {
   "cell_type": "code",
   "execution_count": null,
   "metadata": {},
   "outputs": [],
   "source": [
    "def create_bell_pair(qc, a, b):\n",
    "    \"\"\"Creates a bell pair in qc using qubits a & b\"\"\"\n",
    "    qc.h(a) # Put qubit a into state |+>\n",
    "    qc.cx(a,b) # CNOT with a as control and b as target\n",
    "\n",
    "# In our case, Eve entangles qubits q1 and q2\n",
    "# Let's apply this to our circuit:\n",
    "create_bell_pair(teleportation_circuit, 1, 2)\n",
    "# And view the circuit so far:\n",
    "teleportation_circuit.draw('mpl')"
   ]
  },
  {
   "cell_type": "markdown",
   "metadata": {},
   "source": [
    "以下では、アリスは $q_1$、ボブは $q_2$ を持っているとしましょう。\n",
    "\n",
    "#### Step 2 \n",
    "\n",
    "アリスは、コントロール・ビットを $\\vert\\psi\\rangle$ （彼女がボブに送ろうとしている量子ビット）として、$q_1$ に CNOT ゲートを作用させます。そして、$|\\psi\\rangle$ にアダマールゲートを作用させます。今回の量子回路では、アリスが送信しようとしている量子ビット（$|\\psi\\rangle$）は $q_0$ です："
   ]
  },
  {
   "cell_type": "code",
   "execution_count": null,
   "metadata": {},
   "outputs": [],
   "source": [
    "def alice_gates(qc, psi, a):\n",
    "    qc.cx(psi, a)\n",
    "    qc.h(psi)\n",
    "    \n",
    "# 関数を回路に組み込みましょう：\n",
    "teleportation_circuit.barrier() # ステップを分割するために「バリア」を使います\n",
    "alice_gates(teleportation_circuit, 0, 1)\n",
    "teleportation_circuit.draw('mpl')"
   ]
  },
  {
   "cell_type": "markdown",
   "metadata": {},
   "source": [
    "#### Step 3\n",
    "\n",
    "次にアリスは、彼女が持っている両方の量子ビット $q_1$ と $\\vert\\psi\\rangle$ を測定し、その結果を２つの古典ビットに格納します。これら２つのビットを、彼女はボブに送信します。"
   ]
  },
  {
   "cell_type": "code",
   "execution_count": null,
   "metadata": {},
   "outputs": [],
   "source": [
    "def measure_and_send(qc, a, b):\n",
    "    \"\"\"量子ビット a と b 測定し、結果をボブに「送信」します\"\"\"\n",
    "    qc.barrier()\n",
    "    qc.measure(a,0)\n",
    "    qc.measure(b,1)\n",
    "\n",
    "measure_and_send(teleportation_circuit, 0 ,1)\n",
    "teleportation_circuit.draw('mpl')"
   ]
  },
  {
   "cell_type": "markdown",
   "metadata": {},
   "source": [
    "**Step 4**: 既に $q_2$ を持っているボブは、送られてきた古典ビットの状態に従って $q_2$  に次のゲートを作用させます:\n",
    "\n",
    "00 $\\rightarrow$ 何もしません\n",
    "\n",
    "01 $\\rightarrow$ $X$ ゲートを適用\n",
    "\n",
    "10 $\\rightarrow$ $Z$ ゲートを適用\n",
    "\n",
    "11 $\\rightarrow$ $ZX$ ゲートを適用\n",
    "\n",
    "(*注：情報の伝達は純粋に古典的な方法で行われます。*.)"
   ]
  },
  {
   "cell_type": "code",
   "execution_count": null,
   "metadata": {},
   "outputs": [],
   "source": [
    "# この関数は、作用させるゲートを決定するために、\n",
    "# 量子回路（qc : QuantumCircuit）、整数（qubit）、\n",
    "# 古典レジスタ（crz & crx : ClassicalRegisters）を引数に持ちます\n",
    "def bob_gates(qc, qubit, crz, crx):\n",
    "    # Here we use c_if to control our gates with a classical\n",
    "    # bit instead of a qubit\n",
    "    qc.x(qubit).c_if(crx, 1) # Apply gates if the registers \n",
    "    qc.z(qubit).c_if(crz, 1) # are in the state '1'"
   ]
  },
  {
   "cell_type": "code",
   "execution_count": null,
   "metadata": {},
   "outputs": [],
   "source": [
    "# 関数を回路に組み込みましょう：\n",
    "teleportation_circuit.barrier() # ステップを分割するために「バリア」を使います\n",
    "bob_gates(teleportation_circuit, 2, crz, crx)\n",
    "teleportation_circuit.draw('mpl')"
   ]
  },
  {
   "cell_type": "markdown",
   "metadata": {},
   "source": [
    "できました！プロトコルの最後に、アリスの量子ビットはボブにテレポートされます。"
   ]
  },
  {
   "cell_type": "markdown",
   "metadata": {},
   "source": [
    "## 3. テレポーテーション・プロトコルのシミュレーション <a id='simulating'></a>"
   ]
  },
  {
   "cell_type": "markdown",
   "metadata": {},
   "source": [
    "### 3.1 実際の量子コンピューターにおける結果の検査方法 <a id='testing'></a>"
   ]
  },
  {
   "cell_type": "markdown",
   "metadata": {},
   "source": [
    "この notebook では、アリスの量子ビットをランダム状態 $\\vert\\psi\\rangle$ （「psi」）で初期化します。この状態は「初期化」ゲートを $|q_0\\rangle$ に作用させる事で作られます。この章では「psi」を選ぶために「ランダム状態」関数を使いますが、「psi」を任意の量子ビット状態に設定してもかまいません。"
   ]
  },
  {
   "cell_type": "code",
   "execution_count": null,
   "metadata": {},
   "outputs": [],
   "source": [
    "from qiskit_textbook.tools import random_state, vector2latex\n",
    "# ランダムな１量子ビット状態を作ります\n",
    "psi = random_state(1)\n",
    "\n",
    "# 表示を綺麗にします\n",
    "vector2latex(psi, pretext=\"|\\\\psi\\\\rangle =\")\n",
    "# Bloch球で表示します\n",
    "plot_bloch_multivector(psi)"
   ]
  },
  {
   "cell_type": "markdown",
   "metadata": {},
   "source": [
    "$|0\\rangle$ から $|\\psi\\rangle$ を作る初期化ゲートを作りましょう："
   ]
  },
  {
   "cell_type": "code",
   "execution_count": null,
   "metadata": {},
   "outputs": [],
   "source": [
    "from qiskit.extensions import Initialize\n",
    "init_gate = Initialize(psi)"
   ]
  },
  {
   "cell_type": "markdown",
   "metadata": {},
   "source": [
    "量子テレポーテーション回路が動作すれば、回路の最後に量子ビット $|q_2\\rangle$ を状態がこの状態になるはずです。状態ベクトルシミュレーターを使ってこれをチェックしてみましょう。"
   ]
  },
  {
   "cell_type": "markdown",
   "metadata": {},
   "source": [
    "### 3.2 状態ベクトル・シミュレーターを使った方法 <a id='simulating-sv'></a>\n",
    "\n",
    "状態ベクトルシミュレーターを使うと、量子ビットがテレポートされたかを確かめることができます。"
   ]
  },
  {
   "cell_type": "code",
   "execution_count": null,
   "metadata": {},
   "outputs": [],
   "source": [
    "qr = QuantumRegister(3)   # プロトコルでは３量子ビットと\n",
    "crz = ClassicalRegister(1) # ２つの古典レジスタを使います\n",
    "crx = ClassicalRegister(1)\n",
    "qc = QuantumCircuit(qr, crz, crx)\n",
    "\n",
    "# 初めに、アリスの q0 を初期化しましょう\n",
    "qc.append(init_gate, [0])\n",
    "qc.barrier()\n",
    "\n",
    "# テレポーテーション・プロトコルを開始します\n",
    "create_bell_pair(qc, 1, 2)\n",
    "qc.barrier()\n",
    "# q1 をアリスに、q2 をボブに渡します\n",
    "alice_gates(qc, 0, 1)\n",
    "\n",
    "# その後アリスが彼女の古典ビットをボブに送信します\n",
    "measure_and_send(qc, 0, 1)\n",
    "\n",
    "# ボブが量子ビットを復号します\n",
    "bob_gates(qc, 2, crz, crx)\n",
    "\n",
    "qc.draw('mpl')"
   ]
  },
  {
   "cell_type": "markdown",
   "metadata": {},
   "source": [
    "この記事の執筆時点では、上の画像の「初期化」ゲートにレンダリングの問題がありますが、回路は正常に動作しています。以下でみるように、この状態ベクトルシミュレーターを用いると、状態$|q_2\\rangle$ は上で作った状態 $|\\psi\\rangle$ と同じですが、状態 $|q_0\\rangle$ と $|q_1\\rangle$ は、状態 $|0\\rangle$ か $|1\\rangle$ のどちらかに崩れている事がわかります。状態 $|\\psi\\rangle$ は 量子ビット 0 から 2 にテレポートされています。"
   ]
  },
  {
   "cell_type": "code",
   "execution_count": null,
   "metadata": {},
   "outputs": [],
   "source": [
    "backend = Aer.get_backend('statevector_simulator')\n",
    "out_vector = execute(qc, backend).result().get_statevector()\n",
    "plot_bloch_multivector(out_vector)"
   ]
  },
  {
   "cell_type": "markdown",
   "metadata": {},
   "source": [
    "このセルを何回か実行してみてください。すると、量子ビット 0 と 1 の状態が変化している事に気づくと思いますが、量子ビット 2 は常に状態 $|\\psi\\rangle$ のままです。"
   ]
  },
  {
   "cell_type": "markdown",
   "metadata": {},
   "source": [
    "### 3.3 QASM シミュレーターを使った方法 <a id='simulating-qs'></a>\n",
    "\n",
    "Quantum teleportation is designed to send qubits between two parties. We do not have the hardware to demonstrate this, but we can demonstrate that the gates perform the correct transformations on a single quantum chip. Here we use the QASM simulator to simulate how we might test our protocol.\n",
    "\n",
    "量子テレポーテーションは２つのグループ間で量子ビットを送るようにデザインされています。これを実証するハードウェアを私たちは持ち合わせていませんが、単一の量子チップ上でなら、ゲートが正しい変換を行う事を実証することができます。ここでは、QASM シミュレーターを使用して、プロトコルをテストする方法をシミュレートします。\n",
    "\n",
    "実際の量子コンピューターでは、状態ベクトルをサンプリングする事はできません。なので、テレポーテーション回路が稼働しているかをチェックしたければ手段を変える必要があります。みなさんは、量子ビット $|0\\rangle$　を状態 $|\\psi\\rangle$ に変えるために初期化したことを覚えているでしょう：\n",
    "\n",
    "$$ |0\\rangle \\xrightarrow{\\text{初期化}} |\\psi\\rangle $$\n",
    "\n",
    "全ての量子ゲートは可逆性を持っているので、次のようにして初期化の逆変換を得ることが出来ます："
   ]
  },
  {
   "cell_type": "code",
   "execution_count": null,
   "metadata": {},
   "outputs": [],
   "source": [
    "inverse_init_gate = init_gate.gates_to_uncompute()"
   ]
  },
  {
   "cell_type": "markdown",
   "metadata": {},
   "source": [
    "この演算子は次のような性質を持っています：\n",
    "\n",
    "$$ |\\psi\\rangle \\xrightarrow{\\text{逆初期化}} |0\\rangle $$\n",
    "\n",
    "量子ビット $|q_0\\rangle$ が $|q_2\\rangle$ にテレポートした事を証明するには、$|q_2\\rangle$ に対してこの逆初期化を行えば確実に $|0\\rangle$ が測定できる事を期待すればよいのです。下の回路ではこれを実行しています："
   ]
  },
  {
   "cell_type": "code",
   "execution_count": null,
   "metadata": {},
   "outputs": [],
   "source": [
    "qc.append(inverse_init_gate, [2])\n",
    "qc.draw('mpl')"
   ]
  },
  {
   "cell_type": "markdown",
   "metadata": {},
   "source": [
    "Again, there is a rendering issue with the `inverse_init_gate` (called 'disentangler' on the circuit diagram), but we can clearly see the gate appearing in the image. Finally, we measure the third qubit and store the result in the third classical bit:"
   ]
  },
  {
   "cell_type": "markdown",
   "metadata": {},
   "source": [
    "ここでも、「inverse_init_gate」（回路図では「disentangler」とよばれています）のレンダリングに問題がありますが、画像の中にゲートが表れているのがはっきりとわかります。最後に、３番目の古典ビットを測定して出力を確認します："
   ]
  },
  {
   "cell_type": "code",
   "execution_count": null,
   "metadata": {},
   "outputs": [],
   "source": [
    "# 結果を見るためには\n",
    "# 新しい古典レジスタを追加する必要があります\n",
    "cr_result = ClassicalRegister(1)\n",
    "qc.add_register(cr_result)\n",
    "qc.measure(2,2)\n",
    "qc.draw('mpl')"
   ]
  },
  {
   "cell_type": "markdown",
   "metadata": {},
   "source": [
    "それでは検査を実行しましょう："
   ]
  },
  {
   "cell_type": "code",
   "execution_count": null,
   "metadata": {},
   "outputs": [],
   "source": [
    "backend = Aer.get_backend('qasm_simulator')\n",
    "counts = execute(qc, backend, shots=1024).result().get_counts()\n",
    "plot_histogram(counts)"
   ]
  },
  {
   "cell_type": "markdown",
   "metadata": {},
   "source": [
    "q_2$ （文字列の左端のビット）の測定で 状態 $|0\\rangle$ を得る確率が 100% であることがわかります。これは予想された結果であり、テレポーテーション・プロトコルが正常に動作した事を示しています。"
   ]
  },
  {
   "cell_type": "markdown",
   "metadata": {},
   "source": [
    "## 3. 実際の量子コンピューターにおけるテレポーテーション <a id='real_qc'></a>"
   ]
  },
  {
   "cell_type": "markdown",
   "metadata": {},
   "source": [
    "### 3.1 IBMハードウェアと遅延測定 <a id='deferred-measurement'></a>\n",
    "\n",
    "IBMの量子コンピュータは現在、測定の後に行う命令系をサポートしていないため、実際のハードウェア上ではこれまでの形の回路による量子テレポーテーションを実行できません。ただ幸いなことに、「遅延測定原理」[1]のおかげで、この事態が私たちの計算実行能力を制限することはありません。この原理は、どのような測定も回路の終端まで延期することができるというものです。つまりすべての測定を最後に持ってくる事が可能、そこで測定しても同じ結果が得られるはずなのです。\n",
    "\n",
    "![deferred_measurement_gates](images/defer_measurement.svg)\n",
    "\n",
    "早い段階で測定を行うことで得られるメリットは、ハードウェアと関連しています。早期に測定できれば、量子ビットを再利用できるかもしれませんし、量子ビットが壊れやすい重ね合わせ状態にある時間を短縮できるかもしれません。この例では、量子テレポーテーションにおける早期測定が、直接量子通信チャンネルを使わず量子ビットの状態を送信出来ることを見ます。\n",
    "\n",
    "ゲートを動かすことで実際のハードウェア上で「テレポーテーション」回路を実証することができる一方で、テレポーテーションプロセスの恩恵の一部が失われていることに注意してください。\n",
    "\n",
    "それでは、`bob_gates`関数を次のように書き直しましょう："
   ]
  },
  {
   "cell_type": "code",
   "execution_count": null,
   "metadata": {},
   "outputs": [],
   "source": [
    "def bob_gates(qc, a, b, c):\n",
    "    qc.cz(a, c)\n",
    "    qc.cx(b, c)"
   ]
  },
  {
   "cell_type": "markdown",
   "metadata": {},
   "source": [
    "そして新しい回路を作ります："
   ]
  },
  {
   "cell_type": "code",
   "execution_count": null,
   "metadata": {},
   "outputs": [],
   "source": [
    "qc = QuantumCircuit(3,1)\n",
    "\n",
    "# 初めにアリスの q0 を初期化しましょう\n",
    "qc.append(init_gate, [0])\n",
    "qc.barrier()\n",
    "\n",
    "# テレポーテーション・プロトコルを開始します\n",
    "create_bell_pair(qc, 1, 2)\n",
    "qc.barrier()\n",
    "# q1 をアリスに、q2 をボブに渡します\n",
    "alice_gates(qc, 0, 1)\n",
    "qc.barrier()\n",
    "# アリスが彼女の古典ビットをボブに送信します\n",
    "bob_gates(qc, 0, 1, 2)\n",
    "\n",
    "# 初期化プロセスを元に戻します\n",
    "qc.append(inverse_init_gate, [2])\n",
    "\n",
    "# ２番目の量子ビットの状態のみに注目して結果を見ます\n",
    "qc.measure(2,0)\n",
    "\n",
    "# 結果を表示します\n",
    "qc.draw(output='mpl')"
   ]
  },
  {
   "cell_type": "markdown",
   "metadata": {},
   "source": [
    "### 4.2 実行 <a id='executing'></a> "
   ]
  },
  {
   "cell_type": "code",
   "execution_count": 10,
   "metadata": {},
   "outputs": [
    {
     "data": {
      "text/plain": [
       "[<IBMQSimulator('ibmq_qasm_simulator') from IBMQ(hub='ibm-q', group='open', project='main')>,\n",
       " <IBMQBackend('ibmqx2') from IBMQ(hub='ibm-q', group='open', project='main')>,\n",
       " <IBMQBackend('ibmq_16_melbourne') from IBMQ(hub='ibm-q', group='open', project='main')>,\n",
       " <IBMQBackend('ibmq_vigo') from IBMQ(hub='ibm-q', group='open', project='main')>,\n",
       " <IBMQBackend('ibmq_ourense') from IBMQ(hub='ibm-q', group='open', project='main')>,\n",
       " <IBMQBackend('ibmq_london') from IBMQ(hub='ibm-q', group='open', project='main')>,\n",
       " <IBMQBackend('ibmq_burlington') from IBMQ(hub='ibm-q', group='open', project='main')>,\n",
       " <IBMQBackend('ibmq_essex') from IBMQ(hub='ibm-q', group='open', project='main')>,\n",
       " <IBMQBackend('ibmq_armonk') from IBMQ(hub='ibm-q', group='open', project='main')>]"
      ]
     },
     "execution_count": 10,
     "metadata": {},
     "output_type": "execute_result"
    }
   ],
   "source": [
    "# まず初めに、保存したアカウントをロードして、使用できるデバイスを確認します\n",
    "IBMQ.load_account()\n",
    "provider = IBMQ.get_provider(hub='ibm-q')\n",
    "provider.backends()"
   ]
  },
  {
   "cell_type": "code",
   "execution_count": null,
   "metadata": {},
   "outputs": [],
   "source": [
    "# IBMで最も空いているバックエンドを取得し、量子回路を走らせます\n",
    "from qiskit.providers.ibmq import least_busy\n",
    "backend = least_busy(provider.backends(filters=lambda b: b.configuration().n_qubits >= 3 and\n",
    "                                   not b.configuration().simulator and b.status().operational==True))\n",
    "job_exp = execute(qc, backend=backend, shots=8192)"
   ]
  },
  {
   "cell_type": "code",
   "execution_count": null,
   "metadata": {},
   "outputs": [],
   "source": [
    "# 結果を取得・表示します\n",
    "exp_result = job_exp.result()\n",
    "exp_measurement_result = exp_result.get_counts(qc)\n",
    "print(exp_measurement_result)\n",
    "plot_histogram(exp_measurement_result)"
   ]
  },
  {
   "cell_type": "markdown",
   "metadata": {},
   "source": [
    "このように、$|1\\rangle$ の測定結果は複数あります。これらはゲートと量子ビットのエラーに起因したものです。対照的に、この notebook のはじめに使ったシミュレーターではゲートのエラーはゼロであり、エラーのないテレポーテーションができました。"
   ]
  },
  {
   "cell_type": "code",
   "execution_count": 12,
   "metadata": {},
   "outputs": [
    {
     "name": "stdout",
     "output_type": "stream",
     "text": [
      "The experimental error rate :  60.0341796875 %\n"
     ]
    }
   ],
   "source": [
    "error_rate_percent = sum([exp_measurement_result[result] for result in exp_measurement_result.keys() if result[0]=='1']) \\\n",
    "                    * 100./ sum(list(exp_measurement_result.values()))\n",
    "print(\"The experimental error rate : \", error_rate_percent, \"%\")"
   ]
  },
  {
   "cell_type": "markdown",
   "metadata": {},
   "source": [
    "## 5. 参考文献 <a id='references'></a>\n",
    "[1] M. Nielsen and I. Chuang, Quantum Computation and Quantum Information, Cambridge Series on Information and the Natural Sciences (Cambridge University Press, Cambridge, 2000)."
   ]
  },
  {
   "cell_type": "code",
   "execution_count": 13,
   "metadata": {},
   "outputs": [
    {
     "data": {
      "text/plain": [
       "{'qiskit-terra': '0.12.0',\n",
       " 'qiskit-aer': '0.4.0',\n",
       " 'qiskit-ignis': '0.2.0',\n",
       " 'qiskit-ibmq-provider': '0.4.6',\n",
       " 'qiskit-aqua': '0.6.4',\n",
       " 'qiskit': '0.15.0'}"
      ]
     },
     "execution_count": 13,
     "metadata": {},
     "output_type": "execute_result"
    }
   ],
   "source": [
    "import qiskit\n",
    "qiskit.__qiskit_version__"
   ]
  }
 ],
 "metadata": {
  "kernelspec": {
   "display_name": "Python 3",
   "language": "python",
   "name": "python3"
  },
  "language_info": {
   "codemirror_mode": {
    "name": "ipython",
    "version": 3
   },
   "file_extension": ".py",
   "mimetype": "text/x-python",
   "name": "python",
   "nbconvert_exporter": "python",
   "pygments_lexer": "ipython3",
   "version": "3.7.4"
  },
  "toc-autonumbering": false
 },
 "nbformat": 4,
 "nbformat_minor": 2
}
